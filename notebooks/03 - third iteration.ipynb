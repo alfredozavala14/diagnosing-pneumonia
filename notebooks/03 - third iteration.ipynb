{
 "cells": [
  {
   "cell_type": "markdown",
   "id": "furnished-spank",
   "metadata": {
    "toc": true
   },
   "source": [
    "<h1>Table of Contents<span class=\"tocSkip\"></span></h1>\n",
    "<div class=\"toc\"><ul class=\"toc-item\"><li><span><a href=\"#Load-libraries,-functions-and-data\" data-toc-modified-id=\"Load-libraries,-functions-and-data-1\"><span class=\"toc-item-num\">1&nbsp;&nbsp;</span>Load libraries, functions and data</a></span></li><li><span><a href=\"#Data-augmentation\" data-toc-modified-id=\"Data-augmentation-2\"><span class=\"toc-item-num\">2&nbsp;&nbsp;</span>Data augmentation</a></span></li></ul></div>"
   ]
  },
  {
   "cell_type": "markdown",
   "id": "democratic-pursuit",
   "metadata": {},
   "source": [
    "Third iteration: using data augmentation to balance the number of images in normal (0) and pneumonia (1)."
   ]
  },
  {
   "cell_type": "markdown",
   "id": "regular-eligibility",
   "metadata": {},
   "source": [
    "## Load libraries, functions and data"
   ]
  },
  {
   "cell_type": "code",
   "execution_count": 1,
   "id": "cultural-ontario",
   "metadata": {},
   "outputs": [],
   "source": [
    "%config Completer.use_jedi = False"
   ]
  },
  {
   "cell_type": "code",
   "execution_count": 2,
   "id": "single-edmonton",
   "metadata": {},
   "outputs": [],
   "source": [
    "from keras import layers\n",
    "from keras import models\n",
    "from keras.models import load_model\n",
    "import cv2\n",
    "import tensorflow as tf\n",
    "import h5py\n",
    "import matplotlib.pyplot as plt\n",
    "import seaborn as sns\n",
    "import numpy as np\n",
    "import pandas as pd\n",
    "import os\n",
    "from sklearn.metrics import confusion_matrix"
   ]
  },
  {
   "cell_type": "code",
   "execution_count": 3,
   "id": "enormous-bouquet",
   "metadata": {},
   "outputs": [],
   "source": [
    "import sys\n",
    "\n",
    "sys.path.append('../src')\n",
    "\n",
    "from helpers import load_augment_images, shuffle_arrays"
   ]
  },
  {
   "cell_type": "markdown",
   "id": "informal-investor",
   "metadata": {},
   "source": [
    "## Data augmentation"
   ]
  },
  {
   "cell_type": "code",
   "execution_count": 6,
   "id": "verified-bulgaria",
   "metadata": {},
   "outputs": [],
   "source": [
    "img_dir = \"../data/chest_xray/chest_xray/\"\n",
    "dir_train = img_dir + \"train/\"\n",
    "dir_test = img_dir + \"test/\""
   ]
  },
  {
   "cell_type": "code",
   "execution_count": 7,
   "id": "corrected-tenant",
   "metadata": {},
   "outputs": [
    {
     "name": "stderr",
     "output_type": "stream",
     "text": [
      "100% |########################################################################|\n",
      "100% |########################################################################|\n"
     ]
    }
   ],
   "source": [
    "train_images, train_labels = load_augment_images(dir_train, augment_label=\"NORMAL\")"
   ]
  },
  {
   "cell_type": "code",
   "execution_count": 8,
   "id": "exterior-klein",
   "metadata": {},
   "outputs": [
    {
     "data": {
      "text/plain": [
       "(7898, 250, 250, 1)"
      ]
     },
     "execution_count": 8,
     "metadata": {},
     "output_type": "execute_result"
    }
   ],
   "source": [
    "train_images.shape"
   ]
  },
  {
   "cell_type": "code",
   "execution_count": 9,
   "id": "wireless-coalition",
   "metadata": {},
   "outputs": [
    {
     "data": {
      "text/plain": [
       "(7898,)"
      ]
     },
     "execution_count": 9,
     "metadata": {},
     "output_type": "execute_result"
    }
   ],
   "source": [
    "train_labels.shape"
   ]
  },
  {
   "cell_type": "code",
   "execution_count": 10,
   "id": "corporate-naples",
   "metadata": {},
   "outputs": [
    {
     "name": "stderr",
     "output_type": "stream",
     "text": [
      "100% |########################################################################|\n",
      "100% |########################################################################|\n"
     ]
    }
   ],
   "source": [
    "test_images, test_labels = load_augment_images(dir_test)"
   ]
  },
  {
   "cell_type": "code",
   "execution_count": 11,
   "id": "sixth-venezuela",
   "metadata": {},
   "outputs": [
    {
     "data": {
      "text/plain": [
       "(624, 250, 250, 1)"
      ]
     },
     "execution_count": 11,
     "metadata": {},
     "output_type": "execute_result"
    }
   ],
   "source": [
    "test_images.shape"
   ]
  },
  {
   "cell_type": "code",
   "execution_count": 12,
   "id": "loaded-point",
   "metadata": {},
   "outputs": [
    {
     "data": {
      "text/plain": [
       "(624,)"
      ]
     },
     "execution_count": 12,
     "metadata": {},
     "output_type": "execute_result"
    }
   ],
   "source": [
    "test_labels.shape"
   ]
  },
  {
   "cell_type": "code",
   "execution_count": 13,
   "id": "irish-burns",
   "metadata": {},
   "outputs": [
    {
     "data": {
      "image/png": "[encoded data removed]",
      "text/plain": [
       "<Figure size 432x288 with 1 Axes>"
      ]
     },
     "metadata": {
      "needs_background": "light"
     },
     "output_type": "display_data"
    }
   ],
   "source": [
    "normal_cases = 0\n",
    "pneumonia_cases = 0\n",
    "\n",
    "for i in range(train_labels.shape[0]):\n",
    "    if train_labels[i] == 0:\n",
    "        normal_cases += 1\n",
    "    elif train_labels[i] == 1:\n",
    "        pneumonia_cases += 1\n",
    "\n",
    "cases = [normal_cases, pneumonia_cases]\n",
    "\n",
    "sns.barplot(x = [\"Normal (0)\", \"Pneumonia (1)\"], y = cases)\n",
    "plt.title(f'Number of train cases', fontsize=10)\n",
    "plt.xlabel('Class label', fontsize=8)\n",
    "plt.ylabel('Count', fontsize=8)\n",
    "plt.show;"
   ]
  },
  {
   "cell_type": "markdown",
   "id": "drawn-sessions",
   "metadata": {},
   "source": [
    "We now have approximately the same number of 0s and 1s"
   ]
  },
  {
   "cell_type": "code",
   "execution_count": 14,
   "id": "reserved-unemployment",
   "metadata": {},
   "outputs": [],
   "source": [
    "model = models.Sequential()\n",
    "model.add(layers.Conv2D(32, (3, 3), activation='relu', input_shape=(250, 250, 1)))\n",
    "model.add(layers.MaxPooling2D((2, 2)))\n",
    "model.add(layers.Conv2D(64, (3, 3), activation='relu'))\n",
    "model.add(layers.MaxPooling2D((2, 2)))\n",
    "model.add(layers.Conv2D(128, (3, 3), activation='relu'))\n",
    "model.add(layers.MaxPooling2D((2, 2)))\n",
    "model.add(layers.Conv2D(128, (3, 3), activation='relu'))\n",
    "model.add(layers.MaxPooling2D((2, 2)))\n",
    "model.add(layers.Flatten())\n",
    "model.add(layers.Dense(512, activation='relu'))\n",
    "model.add(layers.Dense(1, activation='sigmoid'))"
   ]
  },
  {
   "cell_type": "code",
   "execution_count": 15,
   "id": "anonymous-encyclopedia",
   "metadata": {},
   "outputs": [
    {
     "name": "stdout",
     "output_type": "stream",
     "text": [
      "Model: \"sequential\"\n",
      "_________________________________________________________________\n",
      "Layer (type)                 Output Shape              Param #   \n",
      "=================================================================\n",
      "conv2d (Conv2D)              (None, 248, 248, 32)      320       \n",
      "_________________________________________________________________\n",
      "max_pooling2d (MaxPooling2D) (None, 124, 124, 32)      0         \n",
      "_________________________________________________________________\n",
      "conv2d_1 (Conv2D)            (None, 122, 122, 64)      18496     \n",
      "_________________________________________________________________\n",
      "max_pooling2d_1 (MaxPooling2 (None, 61, 61, 64)        0         \n",
      "_________________________________________________________________\n",
      "conv2d_2 (Conv2D)            (None, 59, 59, 128)       73856     \n",
      "_________________________________________________________________\n",
      "max_pooling2d_2 (MaxPooling2 (None, 29, 29, 128)       0         \n",
      "_________________________________________________________________\n",
      "conv2d_3 (Conv2D)            (None, 27, 27, 128)       147584    \n",
      "_________________________________________________________________\n",
      "max_pooling2d_3 (MaxPooling2 (None, 13, 13, 128)       0         \n",
      "_________________________________________________________________\n",
      "flatten (Flatten)            (None, 21632)             0         \n",
      "_________________________________________________________________\n",
      "dense (Dense)                (None, 512)               11076096  \n",
      "_________________________________________________________________\n",
      "dense_1 (Dense)              (None, 1)                 513       \n",
      "=================================================================\n",
      "Total params: 11,316,865\n",
      "Trainable params: 11,316,865\n",
      "Non-trainable params: 0\n",
      "_________________________________________________________________\n"
     ]
    }
   ],
   "source": [
    "model.summary()"
   ]
  },
  {
   "cell_type": "code",
   "execution_count": 16,
   "id": "detected-developer",
   "metadata": {},
   "outputs": [],
   "source": [
    "model.compile(\n",
    "    optimizer='rmsprop',\n",
    "    loss='binary_crossentropy',\n",
    "    metrics=['accuracy']\n",
    ")"
   ]
  },
  {
   "cell_type": "code",
   "execution_count": 17,
   "id": "comic-ivory",
   "metadata": {},
   "outputs": [],
   "source": [
    "checkpoint_filepath = 'model.{epoch:02d}-{val_loss:.2f}.h5'\n",
    "model_checkpoint_callback = tf.keras.callbacks.ModelCheckpoint(\n",
    "    filepath=checkpoint_filepath,\n",
    "    save_weights_only=True,\n",
    "    monitor='val_accuracy',\n",
    "    mode='max',\n",
    "    save_best_only=True)"
   ]
  },
  {
   "cell_type": "code",
   "execution_count": 18,
   "id": "occupied-cabin",
   "metadata": {},
   "outputs": [],
   "source": [
    "# shuffling the data so that validation is not just done for images with label = 1\n",
    "\n",
    "train_images_shuff, train_labels_shuff = shuffle_arrays(train_images, train_labels)"
   ]
  },
  {
   "cell_type": "code",
   "execution_count": 19,
   "id": "bright-nothing",
   "metadata": {},
   "outputs": [
    {
     "name": "stdout",
     "output_type": "stream",
     "text": [
      "Epoch 1/10\n",
      "56/56 [==============================] - 447s 8s/step - loss: 13.6078 - accuracy: 0.6711 - val_loss: 0.2616 - val_accuracy: 0.9076\n",
      "Epoch 2/10\n",
      "56/56 [==============================] - 450s 8s/step - loss: 0.2524 - accuracy: 0.8892 - val_loss: 0.1140 - val_accuracy: 0.9608\n",
      "Epoch 3/10\n",
      "56/56 [==============================] - 442s 8s/step - loss: 0.1713 - accuracy: 0.9474 - val_loss: 0.0955 - val_accuracy: 0.9582\n",
      "Epoch 4/10\n",
      "56/56 [==============================] - 458s 8s/step - loss: 0.9037 - accuracy: 0.9587 - val_loss: 0.0724 - val_accuracy: 0.9747\n",
      "Epoch 5/10\n",
      "56/56 [==============================] - 458s 8s/step - loss: 0.0792 - accuracy: 0.9701 - val_loss: 0.0554 - val_accuracy: 0.9797\n",
      "Epoch 6/10\n",
      "56/56 [==============================] - 460s 8s/step - loss: 0.2287 - accuracy: 0.9603 - val_loss: 0.0693 - val_accuracy: 0.9734\n",
      "Epoch 7/10\n",
      "56/56 [==============================] - 454s 8s/step - loss: 0.0662 - accuracy: 0.9757 - val_loss: 0.0446 - val_accuracy: 0.9848\n",
      "Epoch 8/10\n",
      "56/56 [==============================] - 467s 8s/step - loss: 0.0557 - accuracy: 0.9777 - val_loss: 0.0708 - val_accuracy: 0.9734\n",
      "Epoch 9/10\n",
      "56/56 [==============================] - 438s 8s/step - loss: 0.0418 - accuracy: 0.9813 - val_loss: 0.0561 - val_accuracy: 0.9873\n",
      "Epoch 10/10\n",
      "56/56 [==============================] - 2382s 43s/step - loss: 0.1108 - accuracy: 0.9814 - val_loss: 0.0461 - val_accuracy: 0.9835\n"
     ]
    },
    {
     "data": {
      "text/plain": [
       "<tensorflow.python.keras.callbacks.History at 0x7f926493ab50>"
      ]
     },
     "execution_count": 19,
     "metadata": {},
     "output_type": "execute_result"
    }
   ],
   "source": [
    "model.fit(train_images_shuff, train_labels_shuff, epochs=10, batch_size=128, validation_split=0.1, callbacks=model_checkpoint_callback)"
   ]
  },
  {
   "cell_type": "code",
   "execution_count": 20,
   "id": "twelve-calculation",
   "metadata": {},
   "outputs": [
    {
     "data": {
      "image/png": "[encoded data removed]",
      "text/plain": [
       "<Figure size 1440x720 with 2 Axes>"
      ]
     },
     "metadata": {
      "needs_background": "light"
     },
     "output_type": "display_data"
    }
   ],
   "source": [
    "# plot evolution of accuracy and loss\n",
    "\n",
    "epochs = [i for i in range(1,11)]\n",
    "fig , ax = plt.subplots(1,2)\n",
    "train_acc = model.history.history['accuracy']\n",
    "train_loss = model.history.history['loss']\n",
    "val_acc = model.history.history['val_accuracy']\n",
    "val_loss = model.history.history['val_loss']\n",
    "fig.set_size_inches(20,10)\n",
    "\n",
    "ax[0].plot(epochs , train_acc , 'bo-' , label = 'Training Accuracy')\n",
    "ax[0].plot(epochs , val_acc , 'ro-' , label = 'Validation Accuracy')\n",
    "ax[0].set_title('Training & Validation Accuracy')\n",
    "ax[0].legend()\n",
    "ax[0].set_xlabel(\"Epochs\")\n",
    "ax[0].set_ylabel(\"Accuracy\")\n",
    "\n",
    "ax[1].plot(epochs , train_loss , 'g-o' , label = 'Training Loss')\n",
    "ax[1].plot(epochs , val_loss , 'r-o' , label = 'Validation Loss')\n",
    "ax[1].set_title('Training & Validation Loss')\n",
    "ax[1].legend()\n",
    "ax[1].set_xlabel(\"Epochs\")\n",
    "ax[1].set_ylabel(\"Loss\")\n",
    "plt.show()"
   ]
  },
  {
   "cell_type": "code",
   "execution_count": 33,
   "id": "comprehensive-notice",
   "metadata": {},
   "outputs": [],
   "source": [
    "# save model for future use\n",
    "\n",
    "model.save('my_model_it3.h5')"
   ]
  },
  {
   "cell_type": "code",
   "execution_count": 21,
   "id": "distributed-arrangement",
   "metadata": {},
   "outputs": [],
   "source": [
    "prediction = (model.predict(test_images) > 0.5).astype(\"int32\")"
   ]
  },
  {
   "cell_type": "code",
   "execution_count": 22,
   "id": "significant-depth",
   "metadata": {},
   "outputs": [],
   "source": [
    "df = pd.DataFrame()\n",
    "df[\"is_pneumonia\"] = test_labels\n",
    "df[\"predict_pneumonia\"] = prediction"
   ]
  },
  {
   "cell_type": "code",
   "execution_count": 23,
   "id": "pleasant-caution",
   "metadata": {},
   "outputs": [
    {
     "data": {
      "text/html": [
       "<div>\n",
       "<style scoped>\n",
       "    .dataframe tbody tr th:only-of-type {\n",
       "        vertical-align: middle;\n",
       "    }\n",
       "\n",
       "    .dataframe tbody tr th {\n",
       "        vertical-align: top;\n",
       "    }\n",
       "\n",
       "    .dataframe thead th {\n",
       "        text-align: right;\n",
       "    }\n",
       "</style>\n",
       "<table border=\"1\" class=\"dataframe\">\n",
       "  <thead>\n",
       "    <tr style=\"text-align: right;\">\n",
       "      <th>predict_pneumonia</th>\n",
       "      <th>0</th>\n",
       "      <th>1</th>\n",
       "    </tr>\n",
       "    <tr>\n",
       "      <th>is_pneumonia</th>\n",
       "      <th></th>\n",
       "      <th></th>\n",
       "    </tr>\n",
       "  </thead>\n",
       "  <tbody>\n",
       "    <tr>\n",
       "      <th>0</th>\n",
       "      <td>118</td>\n",
       "      <td>116</td>\n",
       "    </tr>\n",
       "    <tr>\n",
       "      <th>1</th>\n",
       "      <td>3</td>\n",
       "      <td>387</td>\n",
       "    </tr>\n",
       "  </tbody>\n",
       "</table>\n",
       "</div>"
      ],
      "text/plain": [
       "predict_pneumonia    0    1\n",
       "is_pneumonia               \n",
       "0                  118  116\n",
       "1                    3  387"
      ]
     },
     "execution_count": 23,
     "metadata": {},
     "output_type": "execute_result"
    }
   ],
   "source": [
    "cm = pd.crosstab(\n",
    "    df.is_pneumonia,\n",
    "    df.predict_pneumonia\n",
    ")\n",
    "cm"
   ]
  },
  {
   "cell_type": "code",
   "execution_count": 24,
   "id": "satellite-programming",
   "metadata": {},
   "outputs": [
    {
     "name": "stdout",
     "output_type": "stream",
     "text": [
      "39/39 [==============================] - 11s 265ms/step - loss: 0.8582 - accuracy: 0.8093\n",
      "Loss on test set:  0.8582460284233093\n",
      "Accuracy on test set:  0.8092948794364929\n"
     ]
    }
   ],
   "source": [
    "test_loss, test_score = model.evaluate(test_images, test_labels, batch_size=16)\n",
    "print(\"Loss on test set: \", test_loss)\n",
    "print(\"Accuracy on test set: \", test_score)"
   ]
  },
  {
   "cell_type": "code",
   "execution_count": 25,
   "id": "loose-africa",
   "metadata": {},
   "outputs": [
    {
     "name": "stdout",
     "output_type": "stream",
     "text": [
      "Recall of the model is 0.99\n",
      "Precision of the model is 0.77\n"
     ]
    }
   ],
   "source": [
    "precision = cm[1][1]/(cm[1][0] + cm[1][1])\n",
    "recall = cm[1][1]/(cm[0][1] + cm[1][1])\n",
    "\n",
    "print(f\"Recall of the model is {round(recall, 2)}\")\n",
    "print(f\"Precision of the model is {round(precision, 2)}\")"
   ]
  },
  {
   "cell_type": "code",
   "execution_count": 36,
   "id": "proprietary-violence",
   "metadata": {},
   "outputs": [
    {
     "data": {
      "text/plain": [
       "1"
      ]
     },
     "execution_count": 36,
     "metadata": {},
     "output_type": "execute_result"
    }
   ],
   "source": [
    "prediction[0][0]"
   ]
  },
  {
   "cell_type": "code",
   "execution_count": null,
   "id": "unable-brown",
   "metadata": {},
   "outputs": [],
   "source": []
  }
 ],
 "metadata": {
  "kernelspec": {
   "display_name": "Python 3",
   "language": "python",
   "name": "python3"
  },
  "language_info": {
   "codemirror_mode": {
    "name": "ipython",
    "version": 3
   },
   "file_extension": ".py",
   "mimetype": "text/x-python",
   "name": "python",
   "nbconvert_exporter": "python",
   "pygments_lexer": "ipython3",
   "version": "3.8.5"
  },
  "toc": {
   "base_numbering": 1,
   "nav_menu": {},
   "number_sections": true,
   "sideBar": true,
   "skip_h1_title": true,
   "title_cell": "Table of Contents",
   "title_sidebar": "Contents",
   "toc_cell": true,
   "toc_position": {},
   "toc_section_display": true,
   "toc_window_display": false
  },
  "varInspector": {
   "cols": {
    "lenName": 16,
    "lenType": 16,
    "lenVar": 40
   },
   "kernels_config": {
    "python": {
     "delete_cmd_postfix": "",
     "delete_cmd_prefix": "del ",
     "library": "var_list.py",
     "varRefreshCmd": "print(var_dic_list())"
    },
    "r": {
     "delete_cmd_postfix": ") ",
     "delete_cmd_prefix": "rm(",
     "library": "var_list.r",
     "varRefreshCmd": "cat(var_dic_list()) "
    }
   },
   "types_to_exclude": [
    "module",
    "function",
    "builtin_function_or_method",
    "instance",
    "_Feature"
   ],
   "window_display": false
  }
 },
 "nbformat": 4,
 "nbformat_minor": 5
}
